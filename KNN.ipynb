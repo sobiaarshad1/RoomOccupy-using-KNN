{
 "cells": [
  {
   "cell_type": "markdown",
   "id": "e4ff2e3f",
   "metadata": {},
   "source": [
    "                                KNN NEAREST ALGORITHIM"
   ]
  },
  {
   "cell_type": "code",
   "execution_count": 6,
   "id": "8bb89977",
   "metadata": {},
   "outputs": [
    {
     "name": "stdout",
     "output_type": "stream",
     "text": [
      " Train Data of Roomoccupy: 1770\n",
      " Test Data of Roomoccupy: 895\n",
      " Accuracy of predictions when k=5:  98.43575418994413\n",
      " Accuracy of predictions when k=7:  98.43575418994413\n"
     ]
    }
   ],
   "source": [
    "import csv\n",
    "import random\n",
    "import math\n",
    "import operator\n",
    "\n",
    "# Split the data into training and test data\n",
    "def load_data(filename, split, training_data=[] , testing_data=[]):\n",
    "    with open(filename, 'r') as csvfile:\n",
    "        lines = csv.reader(csvfile)\n",
    "        dataset = list(lines)\n",
    "        for x in range(len(dataset)):\n",
    "            for y in range(6):\n",
    "                dataset[x][y] = float(dataset[x][y])\n",
    "            if random.random() < split:\n",
    "                training_data.append(dataset[x])\n",
    "            else:\n",
    "                testing_data.append(dataset[x])\n",
    "                \n",
    "def euclidean_distance(x1, x2, length):\n",
    "    distance_of_features = 0\n",
    "    for i in range(length):\n",
    "         distance_of_features += (int(x1[i]) - int(x2[i]))**2\n",
    "    return math.sqrt(distance_of_features)\n",
    "    \n",
    "def cal_neighbors(training_data, testing_data, k):\n",
    "    distances = []\n",
    "    leng = len(testing_data)-1\n",
    "    for i in range(len(training_data)):\n",
    "        dist = euclidean_distance(testing_data,training_data[i], leng)\n",
    "        distances.append((training_data[i], dist))\n",
    "    distances.sort(key = operator.itemgetter(1))\n",
    "    neighbors = []\n",
    "    for x in range(k):\n",
    "        neighbors.append(distances[x][0])\n",
    "    return neighbors\n",
    "    \n",
    "def get_response(neighbors):\n",
    "    classVotes = {}\n",
    "    for i in range(len(neighbors)):\n",
    "        response = neighbors[i][-1]\n",
    "        if response in classVotes:\n",
    "            classVotes[response] += 1\n",
    "        else:\n",
    "            classVotes[response] = 1\n",
    "    sortedVotes = sorted(classVotes.items(), key=operator.itemgetter(1), reverse=True)\n",
    "    return sortedVotes[0][0]\n",
    "    \n",
    "def prediction_Accuracy(testing_data, predictions):\n",
    "    correct = 0\n",
    "    for i in range(len(testing_data)):\n",
    "        if testing_data[i][-1] == predictions[i]:\n",
    "            correct += 1\n",
    "    return (correct/float(len(testing_data))) * 100.0\n",
    "                \n",
    "def main():\n",
    "    training_data=[]\n",
    "    testing_data=[]\n",
    "    split = 0.67\n",
    "    load_data('Roomoccupy.data', split, training_data,testing_data)\n",
    "    print (' Train Data of Roomoccupy: ' + repr(len(training_data)))\n",
    "    print (' Test Data of Roomoccupy: ' + repr(len(testing_data)))    \n",
    "    predictions=[]\n",
    "    k = 5\n",
    "    for i in range(len(testing_data)):\n",
    "        neighbors = cal_neighbors(training_data, testing_data[i], k)\n",
    "        result = get_response(neighbors)\n",
    "        predictions.append(result)\n",
    "        #print('Predicted Value=' + repr(result) + ' ,  Actual Value=' + repr(testing_data[i][-1]))\n",
    "    accuracy = prediction_Accuracy(testing_data, predictions)\n",
    "    print (' Accuracy of predictions when k=5: ', accuracy)\n",
    "    \n",
    "    k = 7\n",
    "    for i in range(len(testing_data)):\n",
    "        neighbors = cal_neighbors(training_data, testing_data[i], k)\n",
    "        result = get_response(neighbors)\n",
    "        predictions.append(result)\n",
    "        #print('Predicted Value=' + repr(result) + ' ,  Actual Value=' + repr(testing_data[i][-1]))\n",
    "    accuracy = prediction_Accuracy(testing_data, predictions)\n",
    "    print (' Accuracy of predictions when k=7: ', accuracy)\n",
    "\n",
    "main()"
   ]
  },
  {
   "cell_type": "code",
   "execution_count": null,
   "id": "d38110a0",
   "metadata": {},
   "outputs": [],
   "source": []
  },
  {
   "cell_type": "code",
   "execution_count": null,
   "id": "c6d6d0b2",
   "metadata": {},
   "outputs": [],
   "source": []
  },
  {
   "cell_type": "code",
   "execution_count": null,
   "id": "975fed93",
   "metadata": {},
   "outputs": [],
   "source": []
  }
 ],
 "metadata": {
  "kernelspec": {
   "display_name": "Python 3 (ipykernel)",
   "language": "python",
   "name": "python3"
  },
  "language_info": {
   "codemirror_mode": {
    "name": "ipython",
    "version": 3
   },
   "file_extension": ".py",
   "mimetype": "text/x-python",
   "name": "python",
   "nbconvert_exporter": "python",
   "pygments_lexer": "ipython3",
   "version": "3.9.12"
  }
 },
 "nbformat": 4,
 "nbformat_minor": 5
}
